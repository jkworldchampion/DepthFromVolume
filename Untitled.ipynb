{
 "cells": [
  {
   "cell_type": "code",
   "execution_count": 1,
   "metadata": {},
   "outputs": [
    {
     "name": "stdout",
     "output_type": "stream",
     "text": [
      "Traceback (most recent call last):\n",
      "  File \"train.py\", line 13, in <module>\n",
      "    from models import DFFNet\n",
      "  File \"/home/icons/workspace/SungChan/DFV/models/__init__.py\", line 1, in <module>\n",
      "    from .DFFNet import DFFNet\n",
      "  File \"/home/icons/workspace/SungChan/DFV/models/DFFNet.py\", line 8, in <module>\n",
      "    from models.featExactor2 import FeatExactor\n",
      "  File \"/home/icons/workspace/SungChan/DFV/models/featExactor2.py\", line 7, in <module>\n",
      "    import torchvision.models as models\n",
      "ModuleNotFoundError: No module named 'torchvision'\n"
     ]
    }
   ],
   "source": [
    "!python train.py"
   ]
  },
  {
   "cell_type": "code",
   "execution_count": null,
   "metadata": {},
   "outputs": [],
   "source": []
  }
 ],
 "metadata": {
  "kernelspec": {
   "display_name": "dfv",
   "language": "python",
   "name": "dfv-2"
  },
  "language_info": {
   "codemirror_mode": {
    "name": "ipython",
    "version": 3
   },
   "file_extension": ".py",
   "mimetype": "text/x-python",
   "name": "python",
   "nbconvert_exporter": "python",
   "pygments_lexer": "ipython3",
   "version": "3.6.13"
  }
 },
 "nbformat": 4,
 "nbformat_minor": 4
}
