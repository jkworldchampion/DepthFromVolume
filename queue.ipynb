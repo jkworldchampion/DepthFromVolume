{
 "cells": [
  {
   "cell_type": "code",
   "execution_count": 3,
   "metadata": {},
   "outputs": [
    {
     "name": "stdout",
     "output_type": "stream",
     "text": [
      "Traceback (most recent call last):\n",
      "  File \"train.py\", line 13, in <module>\n",
      "    from models import DFFNet\n",
      "  File \"/home/icons/workspace/SungChan/DFV/models/__init__.py\", line 1, in <module>\n",
      "    from .DFFNet import DFFNet\n",
      "  File \"/home/icons/workspace/SungChan/DFV/models/DFFNet.py\", line 8, in <module>\n",
      "    from models.featExactor2 import FeatExactor\n",
      "  File \"/home/icons/workspace/SungChan/DFV/models/featExactor2.py\", line 7, in <module>\n",
      "    import torchvision.models as models\n",
      "ModuleNotFoundError: No module named 'torchvision'\n"
     ]
    }
   ],
   "source": [
    "!CUDA_VISIBLE_DEVICES=0,1 python train.py --dataset DDFF12 --DDFF12_pth ./data/DFF/my_ddff_trainVal.h5 --epochs 1000 --savemodel ./res/ --stack_num 5"
   ]
  },
  {
   "cell_type": "code",
   "execution_count": null,
   "metadata": {},
   "outputs": [],
   "source": []
  }
 ],
 "metadata": {
  "kernelspec": {
   "display_name": "jkenv",
   "language": "python",
   "name": "jkenv"
  },
  "language_info": {
   "codemirror_mode": {
    "name": "ipython",
    "version": 3
   },
   "file_extension": ".py",
   "mimetype": "text/x-python",
   "name": "python",
   "nbconvert_exporter": "python",
   "pygments_lexer": "ipython3",
   "version": "3.9.17"
  }
 },
 "nbformat": 4,
 "nbformat_minor": 4
}
